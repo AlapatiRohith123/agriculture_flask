{
 "cells": [
  {
   "cell_type": "code",
   "execution_count": 6,
   "id": "3125b687",
   "metadata": {},
   "outputs": [
    {
     "data": {
      "text/html": [
       "<div>\n",
       "<style scoped>\n",
       "    .dataframe tbody tr th:only-of-type {\n",
       "        vertical-align: middle;\n",
       "    }\n",
       "\n",
       "    .dataframe tbody tr th {\n",
       "        vertical-align: top;\n",
       "    }\n",
       "\n",
       "    .dataframe thead th {\n",
       "        text-align: right;\n",
       "    }\n",
       "</style>\n",
       "<table border=\"1\" class=\"dataframe\">\n",
       "  <thead>\n",
       "    <tr style=\"text-align: right;\">\n",
       "      <th></th>\n",
       "      <th>Unnamed: 0</th>\n",
       "      <th>Rainfall(mm)</th>\n",
       "      <th>Minimum Temparature(C)</th>\n",
       "      <th>Maximum Temperature (C)</th>\n",
       "      <th>Ph</th>\n",
       "      <th>N(Kg/Hectar)</th>\n",
       "      <th>P(Kg/Hectar)</th>\n",
       "      <th>K(Kg/Hectar)</th>\n",
       "      <th>Zn(ppm)</th>\n",
       "      <th>Fe(ppm)</th>\n",
       "      <th>...</th>\n",
       "      <th>Year_2017 - 2018</th>\n",
       "      <th>Year_2018 - 2019</th>\n",
       "      <th>Year_2019 - 2020</th>\n",
       "      <th>Season_Kharif</th>\n",
       "      <th>Season_rabi</th>\n",
       "      <th>Crop_Groundnut</th>\n",
       "      <th>Crop_Maize</th>\n",
       "      <th>Crop_Moong(Green Gram)</th>\n",
       "      <th>Crop_Rice</th>\n",
       "      <th>Crop_cotton(lint)</th>\n",
       "    </tr>\n",
       "  </thead>\n",
       "  <tbody>\n",
       "    <tr>\n",
       "      <th>0</th>\n",
       "      <td>0</td>\n",
       "      <td>156.040000</td>\n",
       "      <td>29.100000</td>\n",
       "      <td>40.50</td>\n",
       "      <td>7.55</td>\n",
       "      <td>180.00</td>\n",
       "      <td>17.60</td>\n",
       "      <td>284.00</td>\n",
       "      <td>1.350</td>\n",
       "      <td>14.00</td>\n",
       "      <td>...</td>\n",
       "      <td>0</td>\n",
       "      <td>0</td>\n",
       "      <td>0</td>\n",
       "      <td>1</td>\n",
       "      <td>0</td>\n",
       "      <td>0</td>\n",
       "      <td>0</td>\n",
       "      <td>0</td>\n",
       "      <td>0</td>\n",
       "      <td>1</td>\n",
       "    </tr>\n",
       "    <tr>\n",
       "      <th>1</th>\n",
       "      <td>1</td>\n",
       "      <td>165.740000</td>\n",
       "      <td>26.100000</td>\n",
       "      <td>37.60</td>\n",
       "      <td>7.55</td>\n",
       "      <td>180.00</td>\n",
       "      <td>17.60</td>\n",
       "      <td>284.00</td>\n",
       "      <td>1.350</td>\n",
       "      <td>14.00</td>\n",
       "      <td>...</td>\n",
       "      <td>0</td>\n",
       "      <td>0</td>\n",
       "      <td>0</td>\n",
       "      <td>1</td>\n",
       "      <td>0</td>\n",
       "      <td>0</td>\n",
       "      <td>0</td>\n",
       "      <td>0</td>\n",
       "      <td>0</td>\n",
       "      <td>1</td>\n",
       "    </tr>\n",
       "    <tr>\n",
       "      <th>2</th>\n",
       "      <td>2</td>\n",
       "      <td>240.520000</td>\n",
       "      <td>27.300000</td>\n",
       "      <td>38.30</td>\n",
       "      <td>7.55</td>\n",
       "      <td>180.00</td>\n",
       "      <td>17.60</td>\n",
       "      <td>284.00</td>\n",
       "      <td>1.350</td>\n",
       "      <td>14.00</td>\n",
       "      <td>...</td>\n",
       "      <td>0</td>\n",
       "      <td>0</td>\n",
       "      <td>0</td>\n",
       "      <td>1</td>\n",
       "      <td>0</td>\n",
       "      <td>0</td>\n",
       "      <td>0</td>\n",
       "      <td>0</td>\n",
       "      <td>0</td>\n",
       "      <td>1</td>\n",
       "    </tr>\n",
       "    <tr>\n",
       "      <th>3</th>\n",
       "      <td>3</td>\n",
       "      <td>180.180000</td>\n",
       "      <td>27.600000</td>\n",
       "      <td>37.40</td>\n",
       "      <td>7.55</td>\n",
       "      <td>180.00</td>\n",
       "      <td>17.60</td>\n",
       "      <td>284.00</td>\n",
       "      <td>1.350</td>\n",
       "      <td>14.00</td>\n",
       "      <td>...</td>\n",
       "      <td>1</td>\n",
       "      <td>0</td>\n",
       "      <td>0</td>\n",
       "      <td>1</td>\n",
       "      <td>0</td>\n",
       "      <td>0</td>\n",
       "      <td>0</td>\n",
       "      <td>0</td>\n",
       "      <td>0</td>\n",
       "      <td>1</td>\n",
       "    </tr>\n",
       "    <tr>\n",
       "      <th>4</th>\n",
       "      <td>4</td>\n",
       "      <td>256.060000</td>\n",
       "      <td>25.380000</td>\n",
       "      <td>39.94</td>\n",
       "      <td>7.55</td>\n",
       "      <td>180.00</td>\n",
       "      <td>17.60</td>\n",
       "      <td>284.00</td>\n",
       "      <td>1.350</td>\n",
       "      <td>14.00</td>\n",
       "      <td>...</td>\n",
       "      <td>0</td>\n",
       "      <td>1</td>\n",
       "      <td>0</td>\n",
       "      <td>1</td>\n",
       "      <td>0</td>\n",
       "      <td>0</td>\n",
       "      <td>0</td>\n",
       "      <td>0</td>\n",
       "      <td>0</td>\n",
       "      <td>1</td>\n",
       "    </tr>\n",
       "    <tr>\n",
       "      <th>...</th>\n",
       "      <td>...</td>\n",
       "      <td>...</td>\n",
       "      <td>...</td>\n",
       "      <td>...</td>\n",
       "      <td>...</td>\n",
       "      <td>...</td>\n",
       "      <td>...</td>\n",
       "      <td>...</td>\n",
       "      <td>...</td>\n",
       "      <td>...</td>\n",
       "      <td>...</td>\n",
       "      <td>...</td>\n",
       "      <td>...</td>\n",
       "      <td>...</td>\n",
       "      <td>...</td>\n",
       "      <td>...</td>\n",
       "      <td>...</td>\n",
       "      <td>...</td>\n",
       "      <td>...</td>\n",
       "      <td>...</td>\n",
       "      <td>...</td>\n",
       "    </tr>\n",
       "    <tr>\n",
       "      <th>1115</th>\n",
       "      <td>1115</td>\n",
       "      <td>15.042900</td>\n",
       "      <td>9.600000</td>\n",
       "      <td>44.90</td>\n",
       "      <td>5.50</td>\n",
       "      <td>162.69</td>\n",
       "      <td>18.08</td>\n",
       "      <td>215.84</td>\n",
       "      <td>1.833</td>\n",
       "      <td>4.67</td>\n",
       "      <td>...</td>\n",
       "      <td>0</td>\n",
       "      <td>0</td>\n",
       "      <td>1</td>\n",
       "      <td>0</td>\n",
       "      <td>1</td>\n",
       "      <td>0</td>\n",
       "      <td>0</td>\n",
       "      <td>0</td>\n",
       "      <td>1</td>\n",
       "      <td>0</td>\n",
       "    </tr>\n",
       "    <tr>\n",
       "      <th>1116</th>\n",
       "      <td>1116</td>\n",
       "      <td>5.171429</td>\n",
       "      <td>28.300000</td>\n",
       "      <td>41.80</td>\n",
       "      <td>6.54</td>\n",
       "      <td>170.70</td>\n",
       "      <td>34.10</td>\n",
       "      <td>283.10</td>\n",
       "      <td>3.200</td>\n",
       "      <td>8.30</td>\n",
       "      <td>...</td>\n",
       "      <td>0</td>\n",
       "      <td>0</td>\n",
       "      <td>0</td>\n",
       "      <td>0</td>\n",
       "      <td>1</td>\n",
       "      <td>0</td>\n",
       "      <td>0</td>\n",
       "      <td>0</td>\n",
       "      <td>1</td>\n",
       "      <td>0</td>\n",
       "    </tr>\n",
       "    <tr>\n",
       "      <th>1117</th>\n",
       "      <td>1117</td>\n",
       "      <td>11.285714</td>\n",
       "      <td>20.000000</td>\n",
       "      <td>35.10</td>\n",
       "      <td>6.54</td>\n",
       "      <td>170.70</td>\n",
       "      <td>34.10</td>\n",
       "      <td>283.10</td>\n",
       "      <td>3.200</td>\n",
       "      <td>8.30</td>\n",
       "      <td>...</td>\n",
       "      <td>1</td>\n",
       "      <td>0</td>\n",
       "      <td>0</td>\n",
       "      <td>0</td>\n",
       "      <td>1</td>\n",
       "      <td>0</td>\n",
       "      <td>0</td>\n",
       "      <td>0</td>\n",
       "      <td>1</td>\n",
       "      <td>0</td>\n",
       "    </tr>\n",
       "    <tr>\n",
       "      <th>1118</th>\n",
       "      <td>1118</td>\n",
       "      <td>6.571429</td>\n",
       "      <td>20.166667</td>\n",
       "      <td>40.70</td>\n",
       "      <td>6.54</td>\n",
       "      <td>170.70</td>\n",
       "      <td>34.10</td>\n",
       "      <td>283.10</td>\n",
       "      <td>3.200</td>\n",
       "      <td>8.30</td>\n",
       "      <td>...</td>\n",
       "      <td>0</td>\n",
       "      <td>1</td>\n",
       "      <td>0</td>\n",
       "      <td>0</td>\n",
       "      <td>1</td>\n",
       "      <td>0</td>\n",
       "      <td>0</td>\n",
       "      <td>0</td>\n",
       "      <td>1</td>\n",
       "      <td>0</td>\n",
       "    </tr>\n",
       "    <tr>\n",
       "      <th>1119</th>\n",
       "      <td>1119</td>\n",
       "      <td>11.271429</td>\n",
       "      <td>12.200000</td>\n",
       "      <td>45.20</td>\n",
       "      <td>6.54</td>\n",
       "      <td>170.70</td>\n",
       "      <td>34.10</td>\n",
       "      <td>283.10</td>\n",
       "      <td>3.200</td>\n",
       "      <td>8.30</td>\n",
       "      <td>...</td>\n",
       "      <td>0</td>\n",
       "      <td>0</td>\n",
       "      <td>1</td>\n",
       "      <td>0</td>\n",
       "      <td>1</td>\n",
       "      <td>0</td>\n",
       "      <td>0</td>\n",
       "      <td>0</td>\n",
       "      <td>1</td>\n",
       "      <td>0</td>\n",
       "    </tr>\n",
       "  </tbody>\n",
       "</table>\n",
       "<p>1120 rows × 59 columns</p>\n",
       "</div>"
      ],
      "text/plain": [
       "      Unnamed: 0  Rainfall(mm)  Minimum Temparature(C)  \\\n",
       "0              0    156.040000               29.100000   \n",
       "1              1    165.740000               26.100000   \n",
       "2              2    240.520000               27.300000   \n",
       "3              3    180.180000               27.600000   \n",
       "4              4    256.060000               25.380000   \n",
       "...          ...           ...                     ...   \n",
       "1115        1115     15.042900                9.600000   \n",
       "1116        1116      5.171429               28.300000   \n",
       "1117        1117     11.285714               20.000000   \n",
       "1118        1118      6.571429               20.166667   \n",
       "1119        1119     11.271429               12.200000   \n",
       "\n",
       "      Maximum Temperature (C)    Ph  N(Kg/Hectar)  P(Kg/Hectar)  K(Kg/Hectar)  \\\n",
       "0                       40.50  7.55        180.00         17.60        284.00   \n",
       "1                       37.60  7.55        180.00         17.60        284.00   \n",
       "2                       38.30  7.55        180.00         17.60        284.00   \n",
       "3                       37.40  7.55        180.00         17.60        284.00   \n",
       "4                       39.94  7.55        180.00         17.60        284.00   \n",
       "...                       ...   ...           ...           ...           ...   \n",
       "1115                    44.90  5.50        162.69         18.08        215.84   \n",
       "1116                    41.80  6.54        170.70         34.10        283.10   \n",
       "1117                    35.10  6.54        170.70         34.10        283.10   \n",
       "1118                    40.70  6.54        170.70         34.10        283.10   \n",
       "1119                    45.20  6.54        170.70         34.10        283.10   \n",
       "\n",
       "      Zn(ppm)  Fe(ppm)  ...  Year_2017 - 2018  Year_2018 - 2019  \\\n",
       "0       1.350    14.00  ...                 0                 0   \n",
       "1       1.350    14.00  ...                 0                 0   \n",
       "2       1.350    14.00  ...                 0                 0   \n",
       "3       1.350    14.00  ...                 1                 0   \n",
       "4       1.350    14.00  ...                 0                 1   \n",
       "...       ...      ...  ...               ...               ...   \n",
       "1115    1.833     4.67  ...                 0                 0   \n",
       "1116    3.200     8.30  ...                 0                 0   \n",
       "1117    3.200     8.30  ...                 1                 0   \n",
       "1118    3.200     8.30  ...                 0                 1   \n",
       "1119    3.200     8.30  ...                 0                 0   \n",
       "\n",
       "      Year_2019 - 2020  Season_Kharif  Season_rabi  Crop_Groundnut  \\\n",
       "0                    0              1            0               0   \n",
       "1                    0              1            0               0   \n",
       "2                    0              1            0               0   \n",
       "3                    0              1            0               0   \n",
       "4                    0              1            0               0   \n",
       "...                ...            ...          ...             ...   \n",
       "1115                 1              0            1               0   \n",
       "1116                 0              0            1               0   \n",
       "1117                 0              0            1               0   \n",
       "1118                 0              0            1               0   \n",
       "1119                 1              0            1               0   \n",
       "\n",
       "      Crop_Maize  Crop_Moong(Green Gram)  Crop_Rice  Crop_cotton(lint)  \n",
       "0              0                       0          0                  1  \n",
       "1              0                       0          0                  1  \n",
       "2              0                       0          0                  1  \n",
       "3              0                       0          0                  1  \n",
       "4              0                       0          0                  1  \n",
       "...          ...                     ...        ...                ...  \n",
       "1115           0                       0          1                  0  \n",
       "1116           0                       0          1                  0  \n",
       "1117           0                       0          1                  0  \n",
       "1118           0                       0          1                  0  \n",
       "1119           0                       0          1                  0  \n",
       "\n",
       "[1120 rows x 59 columns]"
      ]
     },
     "execution_count": 6,
     "metadata": {},
     "output_type": "execute_result"
    }
   ],
   "source": [
    "import pandas as pd\n",
    "d=pd.read_excel(\"final catgry.xlsx\")\n",
    "d"
   ]
  },
  {
   "cell_type": "code",
   "execution_count": 7,
   "id": "a3be1557",
   "metadata": {},
   "outputs": [
    {
     "data": {
      "text/plain": [
       "Index(['Unnamed: 0', 'Rainfall(mm)', 'Minimum Temparature(C)',\n",
       "       'Maximum Temperature (C)', 'Ph', 'N(Kg/Hectar)', 'P(Kg/Hectar)',\n",
       "       'K(Kg/Hectar)', 'Zn(ppm)', 'Fe(ppm)', 'Cu(ppm)', 'Mn(ppm)',\n",
       "       'Irrigation(MBGL)', 'Yield (Bales/Hectare)', 'District_Adilabad',\n",
       "       'District_Bhadradri', 'District_Jagitial', 'District_Jangoan',\n",
       "       'District_Jayashankar', 'District_Jogulamba', 'District_Kamareddy',\n",
       "       'District_Karimnagar', 'District_Khammam',\n",
       "       'District_Komaram bheem asifabad', 'District_Mahabubabad',\n",
       "       'District_Mahbubnagar', 'District_Mancherial', 'District_Medak',\n",
       "       'District_Medchal', 'District_Mulugu', 'District_Nagarkurnool',\n",
       "       'District_Nalgonda', 'District_Narayanapet', 'District_Nirmal',\n",
       "       'District_Nizamabad', 'District_Peddapalli', 'District_Rajanna',\n",
       "       'District_Rangareddy', 'District_Sangareddy', 'District_Siddipet',\n",
       "       'District_Suryapet', 'District_Vikarabad', 'District_Wanaparthy',\n",
       "       'District_Warangal', 'District_Warangal urban', 'District_Yadadri',\n",
       "       'Year_2014 - 2015', 'Year_2015 - 2016', 'Year_2016 - 2017',\n",
       "       'Year_2017 - 2018', 'Year_2018 - 2019', 'Year_2019 - 2020',\n",
       "       'Season_Kharif', 'Season_rabi', 'Crop_Groundnut', 'Crop_Maize',\n",
       "       'Crop_Moong(Green Gram)', 'Crop_Rice', 'Crop_cotton(lint)'],\n",
       "      dtype='object')"
      ]
     },
     "execution_count": 7,
     "metadata": {},
     "output_type": "execute_result"
    }
   ],
   "source": [
    "d.columns"
   ]
  },
  {
   "cell_type": "code",
   "execution_count": 8,
   "id": "82d8f7c9",
   "metadata": {},
   "outputs": [],
   "source": [
    "d=d.drop(['Unnamed: 0','Year_2014 - 2015', 'Year_2015 - 2016', 'Year_2016 - 2017','Year_2017 - 2018', 'Year_2018 - 2019', 'Year_2019 - 2020','N(Kg/Hectar)', 'P(Kg/Hectar)','K(Kg/Hectar)', 'Zn(ppm)', 'Fe(ppm)', 'Cu(ppm)', 'Mn(ppm)'], axis=1)"
   ]
  },
  {
   "cell_type": "code",
   "execution_count": 9,
   "id": "659715ed",
   "metadata": {},
   "outputs": [
    {
     "data": {
      "text/plain": [
       "Index(['Rainfall(mm)', 'Minimum Temparature(C)', 'Maximum Temperature (C)',\n",
       "       'Ph', 'Irrigation(MBGL)', 'Yield (Bales/Hectare)', 'District_Adilabad',\n",
       "       'District_Bhadradri', 'District_Jagitial', 'District_Jangoan',\n",
       "       'District_Jayashankar', 'District_Jogulamba', 'District_Kamareddy',\n",
       "       'District_Karimnagar', 'District_Khammam',\n",
       "       'District_Komaram bheem asifabad', 'District_Mahabubabad',\n",
       "       'District_Mahbubnagar', 'District_Mancherial', 'District_Medak',\n",
       "       'District_Medchal', 'District_Mulugu', 'District_Nagarkurnool',\n",
       "       'District_Nalgonda', 'District_Narayanapet', 'District_Nirmal',\n",
       "       'District_Nizamabad', 'District_Peddapalli', 'District_Rajanna',\n",
       "       'District_Rangareddy', 'District_Sangareddy', 'District_Siddipet',\n",
       "       'District_Suryapet', 'District_Vikarabad', 'District_Wanaparthy',\n",
       "       'District_Warangal', 'District_Warangal urban', 'District_Yadadri',\n",
       "       'Season_Kharif', 'Season_rabi', 'Crop_Groundnut', 'Crop_Maize',\n",
       "       'Crop_Moong(Green Gram)', 'Crop_Rice', 'Crop_cotton(lint)'],\n",
       "      dtype='object')"
      ]
     },
     "execution_count": 9,
     "metadata": {},
     "output_type": "execute_result"
    }
   ],
   "source": [
    "d.columns"
   ]
  },
  {
   "cell_type": "code",
   "execution_count": 10,
   "id": "78cd237f",
   "metadata": {},
   "outputs": [
    {
     "data": {
      "text/plain": [
       "array([1.88, 2.49, 2.72, ..., 3.62, 3.53, 3.55])"
      ]
     },
     "execution_count": 10,
     "metadata": {},
     "output_type": "execute_result"
    }
   ],
   "source": [
    "y=d['Yield (Bales/Hectare)'].values\n",
    "y"
   ]
  },
  {
   "cell_type": "code",
   "execution_count": 11,
   "id": "36073d88",
   "metadata": {},
   "outputs": [
    {
     "data": {
      "text/plain": [
       "array([[156.04      ,  29.1       ,  40.5       , ...,   0.        ,\n",
       "          0.        ,   1.        ],\n",
       "       [165.74      ,  26.1       ,  37.6       , ...,   0.        ,\n",
       "          0.        ,   1.        ],\n",
       "       [240.52      ,  27.3       ,  38.3       , ...,   0.        ,\n",
       "          0.        ,   1.        ],\n",
       "       ...,\n",
       "       [ 11.28571429,  20.        ,  35.1       , ...,   0.        ,\n",
       "          1.        ,   0.        ],\n",
       "       [  6.57142857,  20.16666667,  40.7       , ...,   0.        ,\n",
       "          1.        ,   0.        ],\n",
       "       [ 11.27142857,  12.2       ,  45.2       , ...,   0.        ,\n",
       "          1.        ,   0.        ]])"
      ]
     },
     "execution_count": 11,
     "metadata": {},
     "output_type": "execute_result"
    }
   ],
   "source": [
    "x=d.drop('Yield (Bales/Hectare)',axis=1).values\n",
    "x"
   ]
  },
  {
   "cell_type": "code",
   "execution_count": 12,
   "id": "b8aad9cd",
   "metadata": {},
   "outputs": [],
   "source": [
    "from sklearn.model_selection import train_test_split\n",
    "x_train,x_test,y_train,y_test=train_test_split(x,y,test_size=0.2,random_state=19)"
   ]
  },
  {
   "cell_type": "code",
   "execution_count": 13,
   "id": "30923ecc",
   "metadata": {},
   "outputs": [
    {
     "name": "stdout",
     "output_type": "stream",
     "text": [
      "r2_score 0.8813542588318138\n",
      "mean_sq_err 0.4659540178250001\n"
     ]
    }
   ],
   "source": [
    "from sklearn.ensemble import RandomForestRegressor\n",
    "from sklearn.metrics import mean_squared_error, r2_score\n",
    "rf=RandomForestRegressor()\n",
    "rf.fit(x_train,y_train)\n",
    "y_pred=rf.predict(x_test)\n",
    "print(\"r2_score\",r2_score(y_test,y_pred))\n",
    "print(\"mean_sq_err\",mean_squared_error(y_test,y_pred))"
   ]
  },
  {
   "cell_type": "code",
   "execution_count": 14,
   "id": "f67f4cb0",
   "metadata": {},
   "outputs": [
    {
     "name": "stdout",
     "output_type": "stream",
     "text": [
      "r2_score 0.8747628350012816\n",
      "mean_sq_err 0.4918403276645606\n"
     ]
    }
   ],
   "source": [
    "from sklearn.ensemble import GradientBoostingRegressor\n",
    "gb=GradientBoostingRegressor()\n",
    "gb.fit(x_train,y_train)\n",
    "y_pred=gb.predict(x_test)\n",
    "print(\"r2_score\",r2_score(y_test,y_pred))\n",
    "print(\"mean_sq_err\",mean_squared_error(y_test,y_pred))"
   ]
  },
  {
   "cell_type": "code",
   "execution_count": 15,
   "id": "a61caf10",
   "metadata": {},
   "outputs": [
    {
     "name": "stdout",
     "output_type": "stream",
     "text": [
      "r2_score 0.8701207529228894\n",
      "mean_sq_err 0.5100710435267858\n"
     ]
    }
   ],
   "source": [
    "from sklearn.ensemble import BaggingRegressor\n",
    "bg=BaggingRegressor()\n",
    "bg.fit(x_train,y_train)\n",
    "y_pred=bg.predict(x_test)\n",
    "print(\"r2_score\",r2_score(y_test,y_pred))\n",
    "print(\"mean_sq_err\",mean_squared_error(y_test,y_pred))"
   ]
  },
  {
   "cell_type": "code",
   "execution_count": 16,
   "id": "70fe5613",
   "metadata": {},
   "outputs": [
    {
     "name": "stdout",
     "output_type": "stream",
     "text": [
      "r2_score 0.8718237599384389\n",
      "mean_sq_err 0.5033828728982707\n"
     ]
    }
   ],
   "source": [
    "from xgboost import XGBRegressor\n",
    "model = XGBRegressor()\n",
    "model.fit(x_train, y_train)\n",
    "y_pred=model.predict(x_test)\n",
    "print(\"r2_score\",r2_score(y_test,y_pred))\n",
    "print(\"mean_sq_err\",mean_squared_error(y_test,y_pred))"
   ]
  },
  {
   "cell_type": "code",
   "execution_count": 17,
   "id": "92d8bca9",
   "metadata": {},
   "outputs": [
    {
     "name": "stdout",
     "output_type": "stream",
     "text": [
      "r2_score 0.7852315141751112\n",
      "mean_sq_err 0.8434541171641489\n"
     ]
    }
   ],
   "source": [
    "from sklearn.svm import SVR\n",
    "svm=SVR(kernel=\"linear\", epsilon=0.8)\n",
    "svm.fit(x_train, y_train)\n",
    "y_pred=svm.predict(x_test)\n",
    "print(\"r2_score\",r2_score(y_test,y_pred))\n",
    "print(\"mean_sq_err\",mean_squared_error(y_test,y_pred))"
   ]
  },
  {
   "cell_type": "code",
   "execution_count": 18,
   "id": "5ee51993",
   "metadata": {},
   "outputs": [
    {
     "name": "stdout",
     "output_type": "stream",
     "text": [
      "r2_score 0.7859188576893287\n",
      "mean_sq_err 0.840754732686272\n"
     ]
    }
   ],
   "source": [
    "from sklearn.linear_model import LinearRegression\n",
    "lr=LinearRegression()\n",
    "lr.fit(x_train, y_train)\n",
    "y_pred=lr.predict(x_test)\n",
    "print(\"r2_score\",r2_score(y_test,y_pred))\n",
    "print(\"mean_sq_err\",mean_squared_error(y_test,y_pred))"
   ]
  },
  {
   "cell_type": "code",
   "execution_count": 24,
   "id": "bab0e6d7",
   "metadata": {},
   "outputs": [
    {
     "name": "stdout",
     "output_type": "stream",
     "text": [
      "[(0.7973489404300697, 1), (0.8519239861402035, 3), (0.8605216264165034, 5), (0.8679640627572507, 7), (0.8767207502840303, 9), (0.8821698238288395, 11), (0.8843018712103683, 13), (0.8866362060164433, 15), (0.8874437493494759, 17), (0.8871236882666087, 19), (0.8852700653493887, 21), (0.8843557291484887, 23), (0.8852148410558979, 25), (0.8867737988557352, 27), (0.8871409313021686, 29)]\n"
     ]
    }
   ],
   "source": [
    "from sklearn.model_selection import train_test_split\n",
    "from sklearn.ensemble import RandomForestRegressor\n",
    "from sklearn.metrics import mean_squared_error, r2_score\n",
    "l3=[]\n",
    "x_train,x_test,y_train,y_test=train_test_split(x,y,test_size=0.2,random_state=19)\n",
    "for i in range(1,30,2):\n",
    "    rf=RandomForestRegressor(n_estimators=i,random_state=19)\n",
    "    rf.fit(x_train,y_train)\n",
    "    y_pred=rf.predict(x_test)\n",
    "    l3.append((r2_score(y_test,y_pred),i))\n",
    "print(l3)"
   ]
  },
  {
   "cell_type": "code",
   "execution_count": 25,
   "id": "b2e64f91",
   "metadata": {},
   "outputs": [
    {
     "data": {
      "text/plain": [
       "[(0.7973489404300697, 1),\n",
       " (0.8519239861402035, 3),\n",
       " (0.8605216264165034, 5),\n",
       " (0.8679640627572507, 7),\n",
       " (0.8767207502840303, 9),\n",
       " (0.8821698238288395, 11),\n",
       " (0.8843018712103683, 13),\n",
       " (0.8843557291484887, 23),\n",
       " (0.8852148410558979, 25),\n",
       " (0.8852700653493887, 21),\n",
       " (0.8866362060164433, 15),\n",
       " (0.8867737988557352, 27),\n",
       " (0.8871236882666087, 19),\n",
       " (0.8871409313021686, 29),\n",
       " (0.8874437493494759, 17)]"
      ]
     },
     "execution_count": 25,
     "metadata": {},
     "output_type": "execute_result"
    }
   ],
   "source": [
    "sorted(l3)"
   ]
  },
  {
   "cell_type": "code",
   "execution_count": 26,
   "id": "8983692a",
   "metadata": {},
   "outputs": [
    {
     "name": "stdout",
     "output_type": "stream",
     "text": [
      "[(0.8192524232491649, 15), (0.8712002218378397, 16), (0.8914507764120871, 17), (0.8122764453442429, 18), (0.8874437493494759, 19), (0.8571208525079468, 20), (0.842211390728817, 21), (0.8281447326411561, 22), (0.8233296731123002, 23), (0.8609982726321944, 24)]\n"
     ]
    }
   ],
   "source": [
    "from sklearn.model_selection import train_test_split\n",
    "from sklearn.ensemble import RandomForestRegressor\n",
    "from sklearn.metrics import mean_squared_error, r2_score\n",
    "l3=[]\n",
    "\n",
    "for i in range(15,25):\n",
    "    x_train,x_test,y_train,y_test=train_test_split(x,y,test_size=0.2,random_state=i)\n",
    "    rf=RandomForestRegressor(n_estimators=17,random_state=i)\n",
    "    rf.fit(x_train,y_train)\n",
    "    y_pred=rf.predict(x_test)\n",
    "    l3.append((r2_score(y_test,y_pred),i))\n",
    "print(l3)"
   ]
  },
  {
   "cell_type": "code",
   "execution_count": 27,
   "id": "08975e19",
   "metadata": {},
   "outputs": [
    {
     "data": {
      "text/plain": [
       "[(0.8122764453442429, 18),\n",
       " (0.8192524232491649, 15),\n",
       " (0.8233296731123002, 23),\n",
       " (0.8281447326411561, 22),\n",
       " (0.842211390728817, 21),\n",
       " (0.8571208525079468, 20),\n",
       " (0.8609982726321944, 24),\n",
       " (0.8712002218378397, 16),\n",
       " (0.8874437493494759, 19),\n",
       " (0.8914507764120871, 17)]"
      ]
     },
     "execution_count": 27,
     "metadata": {},
     "output_type": "execute_result"
    }
   ],
   "source": [
    "sorted(l3)"
   ]
  },
  {
   "cell_type": "code",
   "execution_count": 32,
   "id": "9e1ca693",
   "metadata": {},
   "outputs": [
    {
     "name": "stdout",
     "output_type": "stream",
     "text": [
      "[(0.9010578440205597, 40), (0.9026727941713344, 42), (0.9023639942928925, 44), (0.903095867966222, 46), (0.9033917336729673, 48), (0.9049506366809222, 50), (0.9041359486357378, 52), (0.9043577162025382, 54), (0.9045372423591254, 56), (0.9048538897743891, 58), (0.9046996453549864, 60), (0.905094523131266, 62), (0.9054588261666789, 64), (0.905333021673181, 66), (0.9050744001205777, 68), (0.9050368945892766, 70), (0.9043044085389833, 72), (0.9039608799767516, 74), (0.9041948095320465, 76), (0.9040267320201654, 78)]\n"
     ]
    }
   ],
   "source": [
    "from sklearn.model_selection import train_test_split\n",
    "from sklearn.ensemble import RandomForestRegressor\n",
    "from sklearn.metrics import mean_squared_error, r2_score\n",
    "l3=[]\n",
    "x_train,x_test,y_train,y_test=train_test_split(x,y,test_size=0.2,random_state=17)\n",
    "for i in range(40,80,2):\n",
    "    rf=RandomForestRegressor(n_estimators=i,random_state=17)\n",
    "    rf.fit(x_train,y_train)\n",
    "    y_pred=rf.predict(x_test)\n",
    "    l3.append((r2_score(y_test,y_pred),i))\n",
    "print(l3)"
   ]
  },
  {
   "cell_type": "code",
   "execution_count": 33,
   "id": "76c2ea7b",
   "metadata": {},
   "outputs": [
    {
     "data": {
      "text/plain": [
       "[(0.9010578440205597, 40),\n",
       " (0.9023639942928925, 44),\n",
       " (0.9026727941713344, 42),\n",
       " (0.903095867966222, 46),\n",
       " (0.9033917336729673, 48),\n",
       " (0.9039608799767516, 74),\n",
       " (0.9040267320201654, 78),\n",
       " (0.9041359486357378, 52),\n",
       " (0.9041948095320465, 76),\n",
       " (0.9043044085389833, 72),\n",
       " (0.9043577162025382, 54),\n",
       " (0.9045372423591254, 56),\n",
       " (0.9046996453549864, 60),\n",
       " (0.9048538897743891, 58),\n",
       " (0.9049506366809222, 50),\n",
       " (0.9050368945892766, 70),\n",
       " (0.9050744001205777, 68),\n",
       " (0.905094523131266, 62),\n",
       " (0.905333021673181, 66),\n",
       " (0.9054588261666789, 64)]"
      ]
     },
     "execution_count": 33,
     "metadata": {},
     "output_type": "execute_result"
    }
   ],
   "source": [
    "sorted(l3)\n"
   ]
  },
  {
   "cell_type": "code",
   "execution_count": 19,
   "id": "e28bb196",
   "metadata": {},
   "outputs": [
    {
     "name": "stdout",
     "output_type": "stream",
     "text": [
      "r2_score 0.9054588261666789\n",
      "mean_sq_err 0.36688674931553444\n"
     ]
    }
   ],
   "source": [
    "from sklearn.model_selection import train_test_split\n",
    "from sklearn.ensemble import RandomForestRegressor\n",
    "from sklearn.metrics import mean_squared_error, r2_score\n",
    "x_train,x_test,y_train,y_test=train_test_split(x,y,test_size=0.2,random_state=17)\n",
    "rf=RandomForestRegressor(n_estimators=64,random_state=17)\n",
    "rf.fit(x_train,y_train)\n",
    "y_pred=rf.predict(x_test)\n",
    "print(\"r2_score\",r2_score(y_test,y_pred))\n",
    "print(\"mean_sq_err\",mean_squared_error(y_test,y_pred))"
   ]
  },
  {
   "cell_type": "code",
   "execution_count": 20,
   "id": "e2a8a6be",
   "metadata": {},
   "outputs": [],
   "source": [
    "import pickle as p\n",
    "p.dump(rf,open(\"model.pkl\",\"wb\"))"
   ]
  },
  {
   "cell_type": "code",
   "execution_count": null,
   "id": "3c1475b4",
   "metadata": {},
   "outputs": [],
   "source": []
  }
 ],
 "metadata": {
  "kernelspec": {
   "display_name": "Python 3 (ipykernel)",
   "language": "python",
   "name": "python3"
  },
  "language_info": {
   "codemirror_mode": {
    "name": "ipython",
    "version": 3
   },
   "file_extension": ".py",
   "mimetype": "text/x-python",
   "name": "python",
   "nbconvert_exporter": "python",
   "pygments_lexer": "ipython3",
   "version": "3.10.4"
  }
 },
 "nbformat": 4,
 "nbformat_minor": 5
}
