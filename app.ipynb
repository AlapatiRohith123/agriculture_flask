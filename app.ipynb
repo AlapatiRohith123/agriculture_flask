{
 "cells": [
  {
   "cell_type": "code",
   "execution_count": null,
   "id": "dbd9ce24",
   "metadata": {},
   "outputs": [
    {
     "name": "stdout",
     "output_type": "stream",
     "text": [
      " * Serving Flask app '__main__'\n",
      " * Debug mode: off\n"
     ]
    },
    {
     "name": "stderr",
     "output_type": "stream",
     "text": [
      "WARNING: This is a development server. Do not use it in a production deployment. Use a production WSGI server instead.\n",
      " * Running on all addresses (0.0.0.0)\n",
      " * Running on http://127.0.0.1:5000\n",
      " * Running on http://192.168.44.6:5000\n",
      "Press CTRL+C to quit\n",
      "127.0.0.1 - - [16/Jul/2023 22:35:50] \"GET / HTTP/1.1\" 200 -\n",
      "127.0.0.1 - - [16/Jul/2023 22:35:50] \"GET /static/style.css HTTP/1.1\" 304 -\n",
      "127.0.0.1 - - [16/Jul/2023 22:35:51] \"GET /static/script.js HTTP/1.1\" 304 -\n",
      "127.0.0.1 - - [16/Jul/2023 22:35:51] \"GET /static/favicon.png HTTP/1.1\" 304 -\n",
      "127.0.0.1 - - [16/Jul/2023 22:35:51] \"GET /static/agri.jpg HTTP/1.1\" 304 -\n",
      "127.0.0.1 - - [16/Jul/2023 22:35:55] \"GET /Yield HTTP/1.1\" 200 -\n",
      "127.0.0.1 - - [16/Jul/2023 22:35:55] \"GET /static/script.js HTTP/1.1\" 304 -\n",
      "127.0.0.1 - - [16/Jul/2023 22:35:55] \"GET /static/style.css HTTP/1.1\" 304 -\n",
      "127.0.0.1 - - [16/Jul/2023 22:35:55] \"GET /static/favicon.png HTTP/1.1\" 304 -\n",
      "127.0.0.1 - - [16/Jul/2023 22:36:02] \"GET / HTTP/1.1\" 200 -\n",
      "127.0.0.1 - - [16/Jul/2023 22:36:02] \"GET /static/style.css HTTP/1.1\" 304 -\n",
      "127.0.0.1 - - [16/Jul/2023 22:36:02] \"GET /static/script.js HTTP/1.1\" 304 -\n",
      "127.0.0.1 - - [16/Jul/2023 22:36:02] \"GET /static/favicon.png HTTP/1.1\" 304 -\n",
      "127.0.0.1 - - [16/Jul/2023 22:36:02] \"GET /static/agri.jpg HTTP/1.1\" 304 -\n",
      "127.0.0.1 - - [16/Jul/2023 22:36:04] \"GET /Yield HTTP/1.1\" 200 -\n",
      "127.0.0.1 - - [16/Jul/2023 22:36:04] \"GET /static/style.css HTTP/1.1\" 304 -\n",
      "127.0.0.1 - - [16/Jul/2023 22:36:04] \"GET /static/script.js HTTP/1.1\" 304 -\n",
      "127.0.0.1 - - [16/Jul/2023 22:36:04] \"GET /static/favicon.png HTTP/1.1\" 304 -\n",
      "127.0.0.1 - - [16/Jul/2023 22:36:13] \"GET /static/style.css HTTP/1.1\" 304 -\n",
      "127.0.0.1 - - [16/Jul/2023 22:36:34] \"POST /predict HTTP/1.1\" 200 -\n",
      "127.0.0.1 - - [16/Jul/2023 22:36:46] \"GET /Yield HTTP/1.1\" 200 -\n",
      "127.0.0.1 - - [16/Jul/2023 22:36:46] \"GET /static/style.css HTTP/1.1\" 304 -\n",
      "127.0.0.1 - - [16/Jul/2023 22:36:46] \"GET /static/script.js HTTP/1.1\" 304 -\n",
      "127.0.0.1 - - [16/Jul/2023 22:36:46] \"GET /static/favicon.png HTTP/1.1\" 304 -\n",
      "127.0.0.1 - - [16/Jul/2023 22:36:46] \"GET /static/favicon.png HTTP/1.1\" 304 -\n",
      "127.0.0.1 - - [16/Jul/2023 22:37:26] \"GET / HTTP/1.1\" 200 -\n",
      "127.0.0.1 - - [16/Jul/2023 22:37:26] \"GET /static/style.css HTTP/1.1\" 304 -\n",
      "127.0.0.1 - - [16/Jul/2023 22:37:26] \"GET /static/script.js HTTP/1.1\" 304 -\n",
      "127.0.0.1 - - [16/Jul/2023 22:37:26] \"GET /static/favicon.png HTTP/1.1\" 304 -\n",
      "127.0.0.1 - - [16/Jul/2023 22:37:26] \"GET /static/agri.jpg HTTP/1.1\" 304 -\n",
      "127.0.0.1 - - [16/Jul/2023 22:37:34] \"GET /Data HTTP/1.1\" 200 -\n",
      "127.0.0.1 - - [16/Jul/2023 22:37:34] \"GET /static/style.css HTTP/1.1\" 304 -\n",
      "127.0.0.1 - - [16/Jul/2023 22:37:34] \"GET /static/favicon.png HTTP/1.1\" 304 -\n",
      "127.0.0.1 - - [16/Jul/2023 22:37:34] \"GET /static/data.pdf HTTP/1.1\" 304 -\n",
      "127.0.0.1 - - [16/Jul/2023 22:37:35] \"GET / HTTP/1.1\" 200 -\n",
      "127.0.0.1 - - [16/Jul/2023 22:37:35] \"GET /static/style.css HTTP/1.1\" 304 -\n",
      "127.0.0.1 - - [16/Jul/2023 22:37:35] \"GET /static/script.js HTTP/1.1\" 304 -\n",
      "127.0.0.1 - - [16/Jul/2023 22:37:35] \"GET /static/favicon.png HTTP/1.1\" 304 -\n",
      "127.0.0.1 - - [16/Jul/2023 22:37:35] \"GET /static/agri.jpg HTTP/1.1\" 304 -\n"
     ]
    }
   ],
   "source": [
    "from flask import Flask, request, url_for, redirect, render_template\n",
    "import pickle as p\n",
    "import numpy as np\n",
    "import json\n",
    "app=Flask(__name__)\n",
    "model=p.load(open(\"model.pkl\",\"rb\"))\n",
    "\n",
    "@app.route(\"/\")\n",
    "def home():\n",
    "    return render_template(\"Home.html\")\n",
    "\n",
    "@app.route(\"/Yield\")\n",
    "def Yield():\n",
    "    return render_template(\"Yield.html\")\n",
    "\n",
    "@app.route(\"/Data\")\n",
    "def Data():\n",
    "    return render_template(\"data.html\")\n",
    "\n",
    "@app.route(\"/predict\",methods=[\"POST\",\"GET\"])\n",
    "def predict():\n",
    "    d=str(request.data,'UTF-8')\n",
    "    lf=list(map(float,d.split(\",\")))\n",
    "    a=np.array([lf])\n",
    "    output=model.predict(a)[0]\n",
    "    output=round(output,2)\n",
    "    return json.dumps(output)\n",
    "\n",
    "if __name__ == '__main__':\n",
    "    app.run(host=\"0.0.0.0\", port=5000)"
   ]
  },
  {
   "cell_type": "code",
   "execution_count": null,
   "id": "0cf2a25a",
   "metadata": {},
   "outputs": [],
   "source": []
  }
 ],
 "metadata": {
  "kernelspec": {
   "display_name": "Python 3 (ipykernel)",
   "language": "python",
   "name": "python3"
  },
  "language_info": {
   "codemirror_mode": {
    "name": "ipython",
    "version": 3
   },
   "file_extension": ".py",
   "mimetype": "text/x-python",
   "name": "python",
   "nbconvert_exporter": "python",
   "pygments_lexer": "ipython3",
   "version": "3.10.4"
  }
 },
 "nbformat": 4,
 "nbformat_minor": 5
}
