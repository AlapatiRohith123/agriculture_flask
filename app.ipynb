{
 "cells": [
  {
   "cell_type": "code",
   "execution_count": null,
   "id": "47a79273",
   "metadata": {},
   "outputs": [
    {
     "name": "stdout",
     "output_type": "stream",
     "text": [
      " * Serving Flask app '__main__'\n",
      " * Debug mode: off\n"
     ]
    },
    {
     "name": "stderr",
     "output_type": "stream",
     "text": [
      "WARNING: This is a development server. Do not use it in a production deployment. Use a production WSGI server instead.\n",
      " * Running on all addresses (0.0.0.0)\n",
      " * Running on http://127.0.0.1:5000\n",
      " * Running on http://192.168.253.222:5000\n",
      "Press CTRL+C to quit\n",
      "127.0.0.1 - - [12/Jun/2023 12:01:52] \"GET / HTTP/1.1\" 200 -\n",
      "127.0.0.1 - - [12/Jun/2023 12:01:52] \"GET /static/script.js HTTP/1.1\" 304 -\n",
      "127.0.0.1 - - [12/Jun/2023 12:01:52] \"GET /static/style.css HTTP/1.1\" 304 -\n",
      "127.0.0.1 - - [12/Jun/2023 12:01:52] \"GET /static/favicon.jpeg HTTP/1.1\" 304 -\n",
      "127.0.0.1 - - [12/Jun/2023 12:01:52] \"GET /static/agri.jpg HTTP/1.1\" 304 -\n",
      "127.0.0.1 - - [12/Jun/2023 12:01:52] \"GET /static/data.pdf HTTP/1.1\" 304 -\n",
      "127.0.0.1 - - [12/Jun/2023 12:01:54] \"GET /Yield HTTP/1.1\" 200 -\n",
      "127.0.0.1 - - [12/Jun/2023 12:01:54] \"GET /static/style.css HTTP/1.1\" 304 -\n",
      "127.0.0.1 - - [12/Jun/2023 12:01:54] \"GET /static/script.js HTTP/1.1\" 304 -\n",
      "127.0.0.1 - - [12/Jun/2023 12:01:54] \"GET /static/favicon.jpeg HTTP/1.1\" 304 -\n",
      "127.0.0.1 - - [12/Jun/2023 12:01:57] \"POST /predict HTTP/1.1\" 200 -\n",
      "127.0.0.1 - - [12/Jun/2023 12:01:57] \"GET /static/style.css HTTP/1.1\" 304 -\n",
      "127.0.0.1 - - [12/Jun/2023 12:01:57] \"GET /static/script.js HTTP/1.1\" 304 -\n",
      "127.0.0.1 - - [12/Jun/2023 12:01:57] \"GET /static/favicon.jpeg HTTP/1.1\" 304 -\n",
      "127.0.0.1 - - [12/Jun/2023 12:04:17] \"GET / HTTP/1.1\" 200 -\n",
      "127.0.0.1 - - [12/Jun/2023 12:04:17] \"GET /static/style.css HTTP/1.1\" 304 -\n",
      "127.0.0.1 - - [12/Jun/2023 12:04:17] \"GET /static/script.js HTTP/1.1\" 304 -\n",
      "127.0.0.1 - - [12/Jun/2023 12:04:17] \"GET /static/favicon.jpeg HTTP/1.1\" 304 -\n",
      "127.0.0.1 - - [12/Jun/2023 12:04:17] \"GET /static/agri.jpg HTTP/1.1\" 304 -\n",
      "127.0.0.1 - - [12/Jun/2023 12:04:17] \"GET /static/data.pdf HTTP/1.1\" 304 -\n",
      "127.0.0.1 - - [12/Jun/2023 12:07:16] \"GET /Yield HTTP/1.1\" 200 -\n",
      "127.0.0.1 - - [12/Jun/2023 12:07:16] \"GET /static/style.css HTTP/1.1\" 304 -\n",
      "127.0.0.1 - - [12/Jun/2023 12:07:16] \"GET /static/script.js HTTP/1.1\" 304 -\n",
      "127.0.0.1 - - [12/Jun/2023 12:07:16] \"GET /static/favicon.jpeg HTTP/1.1\" 304 -\n"
     ]
    }
   ],
   "source": [
    "from flask import Flask, request, url_for, redirect, render_template\n",
    "import pickle as p\n",
    "import numpy as np\n",
    "app=Flask(__name__)\n",
    "model=p.load(open(\"model.pkl\",\"rb\"))\n",
    "\n",
    "@app.route(\"/\")\n",
    "def home():\n",
    "    return render_template(\"Home.html\")\n",
    "\n",
    "@app.route(\"/Yield\")\n",
    "def Yield():\n",
    "    return render_template(\"Yield.html\")\n",
    "\n",
    "@app.route(\"/predict\",methods=[\"POST\",\"GET\"])\n",
    "def predict():\n",
    "    d=request.form\n",
    "    l_dis=['District_Adilabad', 'District_Bhadradri','District_Jagitial', 'District_Jangoan', 'District_Jayashankar','District_Jogulamba', 'District_Kamareddy', 'District_Karimnagar','District_Khammam', 'District_Komaram bheem asifabad','District_Mahabubabad', 'District_Mahbubnagar', 'District_Mancherial','District_Medak', 'District_Medchal', 'District_Mulugu','District_Nagarkurnool', 'District_Nalgonda', 'District_Narayanapet','District_Nirmal', 'District_Nizamabad', 'District_Peddapalli','District_Rajanna', 'District_Rangareddy', 'District_Sangareddy','District_Siddipet', 'District_Suryapet', 'District_Vikarabad','District_Wanaparthy', 'District_Warangal', 'District_Warangal urban','District_Yadadri']\n",
    "    dis=[0]*32\n",
    "    dis[l_dis.index(d[\"district\"])]=1\n",
    "    sea=[0,0]\n",
    "    if(d[\"season\"]==\"Season_Kharif\"):\n",
    "        sea[0]=1\n",
    "    else:\n",
    "        sea[1]=1\n",
    "    l_crop=['Crop_Groundnut','Crop_Maize', 'Crop_Moong(Green Gram)', 'Crop_Rice','Crop_cotton(lint)']\n",
    "    crop=[0]*5\n",
    "    crop[l_crop.index(d[\"crop\"])]=1\n",
    "    l=list(d.values())\n",
    "    l1=l[3:6]\n",
    "    l2=l[7:]\n",
    "    l3=[l[6]]\n",
    "    lf=l1+l2+l3+dis+sea+crop\n",
    "    lf=list(map(float,lf))\n",
    "    a=np.array([lf])\n",
    "    output=model.predict(a)[0]\n",
    "    output=round(output*68.79655917165852,2)\n",
    "    return render_template(\"Yield2.html\",out=f\"Yield of {d['crop'][5:]} is : {output} (Kg/Acre)\",district=d[\"district\"],season=d[\"season\"],crop=d[\"crop\"],rainfall=d[\"rainfall\"],min_temp=d[\"min_temp\"],max_temp=d[\"max_temp\"],irrigation=d[\"irrigation\"],ph=d[\"ph\"],N=d[\"N\"],P=d[\"P\"],K=d[\"K\"],Zn=d[\"Zn\"],Fe=d[\"Fe\"],Cu=d[\"Cu\"],Mn=d[\"Mn\"])\n",
    "\n",
    "if __name__ == '__main__':\n",
    "    app.run(host=\"0.0.0.0\", port=5000)"
   ]
  }
 ],
 "metadata": {
  "kernelspec": {
   "display_name": "Python 3 (ipykernel)",
   "language": "python",
   "name": "python3"
  },
  "language_info": {
   "codemirror_mode": {
    "name": "ipython",
    "version": 3
   },
   "file_extension": ".py",
   "mimetype": "text/x-python",
   "name": "python",
   "nbconvert_exporter": "python",
   "pygments_lexer": "ipython3",
   "version": "3.10.4"
  }
 },
 "nbformat": 4,
 "nbformat_minor": 5
}
